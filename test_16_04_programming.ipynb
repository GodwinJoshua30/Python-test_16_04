{
 "cells": [
  {
   "cell_type": "markdown",
   "id": "76a7c54a",
   "metadata": {},
   "source": [
    "# . Python Program to Check Leap Year\n",
    "a. A leap year is exactly divisible by 4 except for century years (years ending with 00).\n",
    "The century year is a leap year only if it is perfectly divisible by 400\n",
    "b. For ex: 2017 is not a leap year, 1900 is a not leap year, 2012 is a leap year, 2000 is a\n",
    "leap year\n"
   ]
  },
  {
   "cell_type": "code",
   "execution_count": 4,
   "id": "3145ef4a",
   "metadata": {},
   "outputs": [
    {
     "name": "stdout",
     "output_type": "stream",
     "text": [
      "Enter the year 1990\n",
      "1990 is not a leap year\n"
     ]
    }
   ],
   "source": [
    "def is_leap(year):\n",
    "    if year%4==0:\n",
    "        if year%100==0:\n",
    "            if year%400==0:\n",
    "                leap=True\n",
    "            else:\n",
    "                leap=False\n",
    "        else:\n",
    "            leap=True\n",
    "    else:\n",
    "        leap=False      \n",
    "    \n",
    "    if leap is True:\n",
    "        print(year,\"is a leap year\")\n",
    "    else:\n",
    "        print(year,\"is not a leap year\")\n",
    "year=int(input(\"Enter the year \"))   \n",
    "is_leap(year)"
   ]
  },
  {
   "cell_type": "markdown",
   "id": "150a0c98",
   "metadata": {},
   "source": [
    "# Python program to display the given integer in reverse manner\n",
    "a. Ex: input 852, output should be 258"
   ]
  },
  {
   "cell_type": "code",
   "execution_count": 33,
   "id": "7a49c6aa",
   "metadata": {},
   "outputs": [
    {
     "name": "stdout",
     "output_type": "stream",
     "text": [
      "Enter the integer value56489\n",
      "95648\n"
     ]
    }
   ],
   "source": [
    "a=input(\"Enter the integer value\")\n",
    "b=list(a)\n",
    "n=1\n",
    "d=[]\n",
    "for i in b:\n",
    "    c=b[-n]\n",
    "    n-=1\n",
    "    d.append(c)\n",
    "str1=\"\"\n",
    "listToStr = str1.join(d)\n",
    "int1=int(listToStr)\n",
    "print(int1)\n",
    "\n",
    "    \n"
   ]
  },
  {
   "cell_type": "markdown",
   "id": "006a4790",
   "metadata": {},
   "source": [
    "# 5. Create an inner function to calculate the addition in the following way\n",
    "a. Create an outer function that will accept two parameters, a and b\n",
    "b. Create an inner function inside an outer function that will calculate the addition of a\n",
    "and b\n",
    "c. At last, an outer function will add 5 into addition and return it\n"
   ]
  },
  {
   "cell_type": "code",
   "execution_count": 40,
   "id": "7a32f2e6",
   "metadata": {},
   "outputs": [
    {
     "data": {
      "text/plain": [
       "13"
      ]
     },
     "execution_count": 40,
     "metadata": {},
     "output_type": "execute_result"
    }
   ],
   "source": [
    "def outer_func(a,b):\n",
    "    def inner_func(a,b):\n",
    "        c=a+b\n",
    "    d=int(c)+5\n",
    "    return d\n",
    "\n",
    "outer_func(5,6)\n",
    "    \n",
    "    \n",
    "\n",
    "    "
   ]
  },
  {
   "cell_type": "markdown",
   "id": "74fd65fd",
   "metadata": {},
   "source": [
    "# Python program to check whether the given integer is a multiple of both 5 and 7\n"
   ]
  },
  {
   "cell_type": "code",
   "execution_count": 43,
   "id": "ce150b85",
   "metadata": {},
   "outputs": [
    {
     "name": "stdout",
     "output_type": "stream",
     "text": [
      "Enter the integer: 35\n",
      "the integer is a multiple of 5 and 7\n"
     ]
    }
   ],
   "source": [
    "int2=int(input(\"Enter the integer: \"))\n",
    "if int2%5==0 and int2%7==0:\n",
    "    print(\"the integer is a multiple of 5 and 7\")\n",
    "else:\n",
    "    print(\"the integer is not a multiple of 5 and 7\")"
   ]
  },
  {
   "cell_type": "markdown",
   "id": "e797b89b",
   "metadata": {},
   "source": [
    "# . Python program to find out the average of a set of integers\n",
    "a. Note: Don’t use the pre-defined functions like np.mean\n",
    "b. For ex: If input is 5, the output should be average of 1+2+3+4+5\n"
   ]
  },
  {
   "cell_type": "code",
   "execution_count": 50,
   "id": "f777bdb3",
   "metadata": {},
   "outputs": [
    {
     "name": "stdout",
     "output_type": "stream",
     "text": [
      "[15, 630, 2346, 3081, 4950]\n"
     ]
    }
   ],
   "source": [
    "a=[5,35,68,78,99]\n",
    "c=[]\n",
    "for i in a:\n",
    "    b=0\n",
    "    for z in range(i+1):\n",
    "        if z!=0:\n",
    "            b=b+z\n",
    "    c.append(b)\n",
    "print(c)\n",
    "        \n",
    "            \n",
    "            "
   ]
  },
  {
   "cell_type": "markdown",
   "id": "c3b9dea6",
   "metadata": {},
   "source": [
    "# Write a program (with function) which takes a sequence of numbers and check if all\n",
    "numbers are unique."
   ]
  },
  {
   "cell_type": "code",
   "execution_count": 70,
   "id": "a43fc22e",
   "metadata": {},
   "outputs": [
    {
     "name": "stdout",
     "output_type": "stream",
     "text": [
      "the list is not unique\n"
     ]
    }
   ],
   "source": [
    "def check_unique(list1):\n",
    "    list2=[]\n",
    "    for i in list1:\n",
    "        list2.append(i)\n",
    "        if i == list2[0]:\n",
    "            pass\n",
    "        elif i not in list2:\n",
    "            print(\"the list is unique\")\n",
    "        else:\n",
    "            print(\"the list is not unique\")\n",
    "            \n",
    "    \n",
    "check_unique([5,6,5])"
   ]
  },
  {
   "cell_type": "code",
   "execution_count": null,
   "id": "2d182ad4",
   "metadata": {},
   "outputs": [],
   "source": []
  }
 ],
 "metadata": {
  "kernelspec": {
   "display_name": "Python 3 (ipykernel)",
   "language": "python",
   "name": "python3"
  },
  "language_info": {
   "codemirror_mode": {
    "name": "ipython",
    "version": 3
   },
   "file_extension": ".py",
   "mimetype": "text/x-python",
   "name": "python",
   "nbconvert_exporter": "python",
   "pygments_lexer": "ipython3",
   "version": "3.9.7"
  }
 },
 "nbformat": 4,
 "nbformat_minor": 5
}
