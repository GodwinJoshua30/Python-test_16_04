{
 "cells": [
  {
   "cell_type": "code",
   "execution_count": 1,
   "id": "ae9f59fd",
   "metadata": {},
   "outputs": [],
   "source": [
    "import os\n",
    "import pandas as pd\n",
    "import numpy as np"
   ]
  },
  {
   "cell_type": "code",
   "execution_count": 3,
   "id": "354f267f",
   "metadata": {},
   "outputs": [
    {
     "data": {
      "text/plain": [
       "'D:\\\\Data Science\\\\Python\\\\Python'"
      ]
     },
     "execution_count": 3,
     "metadata": {},
     "output_type": "execute_result"
    }
   ],
   "source": [
    "os.getcwd()"
   ]
  },
  {
   "cell_type": "code",
   "execution_count": 4,
   "id": "604dd668",
   "metadata": {},
   "outputs": [],
   "source": [
    "df=pd.read_csv(\"auto.csv\")"
   ]
  },
  {
   "cell_type": "code",
   "execution_count": 10,
   "id": "adc659e5",
   "metadata": {},
   "outputs": [
    {
     "data": {
      "text/plain": [
       "Index(['Unnamed: 0', 'symboling', 'normalized_losses', 'make', 'fuel_type',\n",
       "       'aspiration', 'num_doors', 'body_style', 'drive_wheels',\n",
       "       'engine_location', 'wheel_base', 'length', 'width', 'height',\n",
       "       'curb_weight', 'engine_type', 'num_cylinders', 'engine_size',\n",
       "       'fuel_system', 'bore', 'stroke', 'compression_ratio', 'horsepower',\n",
       "       'peak_rpm', 'city_mpg', 'highway_mpg', 'price'],\n",
       "      dtype='object')"
      ]
     },
     "execution_count": 10,
     "metadata": {},
     "output_type": "execute_result"
    }
   ],
   "source": [
    "df.columns"
   ]
  },
  {
   "cell_type": "code",
   "execution_count": 6,
   "id": "b759348f",
   "metadata": {},
   "outputs": [
    {
     "data": {
      "text/plain": [
       "0      13495.0\n",
       "1      16500.0\n",
       "2      16500.0\n",
       "3      13950.0\n",
       "4      17450.0\n",
       "        ...   \n",
       "200    16845.0\n",
       "201    19045.0\n",
       "202    21485.0\n",
       "203    22470.0\n",
       "204    22625.0\n",
       "Name: price, Length: 205, dtype: float64"
      ]
     },
     "execution_count": 6,
     "metadata": {},
     "output_type": "execute_result"
    }
   ],
   "source": [
    "df['price']"
   ]
  },
  {
   "cell_type": "markdown",
   "id": "068a0aa4",
   "metadata": {},
   "source": [
    "# Find the most expensive car company name\n"
   ]
  },
  {
   "cell_type": "code",
   "execution_count": 8,
   "id": "4309bf4f",
   "metadata": {},
   "outputs": [
    {
     "data": {
      "text/plain": [
       "45400.0"
      ]
     },
     "execution_count": 8,
     "metadata": {},
     "output_type": "execute_result"
    }
   ],
   "source": [
    "column = df[\"price\"]\n",
    "max_value = column.max()\n",
    "max_value"
   ]
  },
  {
   "cell_type": "code",
   "execution_count": 11,
   "id": "6bb02da2",
   "metadata": {},
   "outputs": [],
   "source": [
    "df3=df.loc[df['price']==max_value,'make']"
   ]
  },
  {
   "cell_type": "code",
   "execution_count": 12,
   "id": "27a5e215",
   "metadata": {},
   "outputs": [
    {
     "data": {
      "text/plain": [
       "74    mercedes-benz\n",
       "Name: make, dtype: object"
      ]
     },
     "execution_count": 12,
     "metadata": {},
     "output_type": "execute_result"
    }
   ],
   "source": [
    "df3"
   ]
  },
  {
   "cell_type": "markdown",
   "id": "b73f9f4c",
   "metadata": {},
   "source": [
    "# Count total cars per company\n"
   ]
  },
  {
   "cell_type": "code",
   "execution_count": 13,
   "id": "219dc7d8",
   "metadata": {},
   "outputs": [
    {
     "data": {
      "text/plain": [
       "toyota           32\n",
       "nissan           18\n",
       "mazda            17\n",
       "mitsubishi       13\n",
       "honda            13\n",
       "volkswagen       12\n",
       "subaru           12\n",
       "peugot           11\n",
       "volvo            11\n",
       "dodge             9\n",
       "bmw               8\n",
       "mercedes-benz     8\n",
       "audi              7\n",
       "plymouth          7\n",
       "saab              6\n",
       "porsche           5\n",
       "isuzu             4\n",
       "jaguar            3\n",
       "chevrolet         3\n",
       "alfa-romero       3\n",
       "renault           2\n",
       "mercury           1\n",
       "Name: make, dtype: int64"
      ]
     },
     "execution_count": 13,
     "metadata": {},
     "output_type": "execute_result"
    }
   ],
   "source": [
    "df['make'].value_counts().sort_values(ascending = False)"
   ]
  },
  {
   "cell_type": "markdown",
   "id": "34eac5c2",
   "metadata": {},
   "source": [
    "# Sort all cars by Price column\n"
   ]
  },
  {
   "cell_type": "code",
   "execution_count": 15,
   "id": "02d86b23",
   "metadata": {},
   "outputs": [
    {
     "data": {
      "text/plain": [
       "74     45400.0\n",
       "16     41315.0\n",
       "73     40960.0\n",
       "128    37028.0\n",
       "17     36880.0\n",
       "        ...   \n",
       "138     5118.0\n",
       "9          NaN\n",
       "44         NaN\n",
       "45         NaN\n",
       "129        NaN\n",
       "Name: price, Length: 205, dtype: float64"
      ]
     },
     "execution_count": 15,
     "metadata": {},
     "output_type": "execute_result"
    }
   ],
   "source": [
    "df['price'].sort_values(ascending = False)"
   ]
  },
  {
   "cell_type": "markdown",
   "id": "c0dd536c",
   "metadata": {},
   "source": [
    "# Group by make, fuel-type and body-style to calculate the average of city-mpg and highwaympg (miles per gallon)"
   ]
  },
  {
   "cell_type": "code",
   "execution_count": 16,
   "id": "53ae7e18",
   "metadata": {},
   "outputs": [
    {
     "name": "stdout",
     "output_type": "stream",
     "text": [
      "                                    city_mpg  highway_mpg\n",
      "make        fuel_type body_style                         \n",
      "alfa-romero gas       convertible  21.000000    27.000000\n",
      "                      hatchback    19.000000    26.000000\n",
      "audi        gas       hatchback    16.000000    22.000000\n",
      "                      sedan        19.400000    24.400000\n",
      "                      wagon        19.000000    25.000000\n",
      "...                                      ...          ...\n",
      "volkswagen  gas       sedan        25.200000    31.600000\n",
      "                      wagon        25.000000    31.000000\n",
      "volvo       diesel    sedan        26.000000    27.000000\n",
      "            gas       sedan        20.428571    25.571429\n",
      "                      wagon        21.333333    26.000000\n",
      "\n",
      "[66 rows x 2 columns]\n"
     ]
    },
    {
     "name": "stderr",
     "output_type": "stream",
     "text": [
      "C:\\Users\\GODWIN~1\\AppData\\Local\\Temp/ipykernel_16304/1046302708.py:1: FutureWarning: Indexing with multiple keys (implicitly converted to a tuple of keys) will be deprecated, use a list instead.\n",
      "  group_data = df.groupby(['make','fuel_type','body_style'])['city_mpg','highway_mpg'].mean()\n"
     ]
    }
   ],
   "source": [
    "group_data = df.groupby(['make','fuel_type','body_style'])['city_mpg','highway_mpg'].mean() \n",
    "print(group_data)"
   ]
  },
  {
   "cell_type": "code",
   "execution_count": null,
   "id": "71a5d1b1",
   "metadata": {},
   "outputs": [],
   "source": []
  }
 ],
 "metadata": {
  "kernelspec": {
   "display_name": "Python 3 (ipykernel)",
   "language": "python",
   "name": "python3"
  },
  "language_info": {
   "codemirror_mode": {
    "name": "ipython",
    "version": 3
   },
   "file_extension": ".py",
   "mimetype": "text/x-python",
   "name": "python",
   "nbconvert_exporter": "python",
   "pygments_lexer": "ipython3",
   "version": "3.9.7"
  }
 },
 "nbformat": 4,
 "nbformat_minor": 5
}
